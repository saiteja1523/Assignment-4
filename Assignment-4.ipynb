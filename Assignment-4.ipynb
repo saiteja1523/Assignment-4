{
 "cells": [
  {
   "cell_type": "code",
   "execution_count": 9,
   "id": "1c227206",
   "metadata": {},
   "outputs": [
    {
     "name": "stdout",
     "output_type": "stream",
     "text": [
      "enter the number :10\n",
      "35\n"
     ]
    }
   ],
   "source": [
    "# Q 1) Write a Python program to create a lambda function that adds 25 to a given number passed in as an argument.\n",
    "#sample input: 10\n",
    "#sample output: 35\n",
    "    \n",
    "x = lambda y : y + 25\n",
    "print(x(int(input('enter the number :'))))"
   ]
  },
  {
   "cell_type": "code",
   "execution_count": 25,
   "id": "27c37144",
   "metadata": {},
   "outputs": [
    {
     "name": "stdout",
     "output_type": "stream",
     "text": [
      "Sample List:\n",
      " (1, 2, 3, 4, 5, 6, 7)\n",
      "\n",
      "Triple of list numbers:\n",
      "[3, 6, 9, 12, 15, 18, 21]\n"
     ]
    }
   ],
   "source": [
    "# Q 2 ) Write a Python program to triple all numbers of a given list of integers. Use Python map.\n",
    "#sample list: [1, 2, 3, 4, 5, 6, 7]\n",
    "\n",
    "numbers = (1, 2, 3, 4, 5, 6, 7) \n",
    "print(\"Sample List:\\n\",numbers)\n",
    "result = map(lambda x: x + x + x, numbers) \n",
    "print(\"\\nTriple of list numbers:\")\n",
    "print(list(result))"
   ]
  },
  {
   "cell_type": "code",
   "execution_count": 37,
   "id": "63392246",
   "metadata": {},
   "outputs": [
    {
     "name": "stdout",
     "output_type": "stream",
     "text": [
      "Sample List:\n",
      " [4, 5, 2, 9]\n",
      "Square the elements of the list:\n",
      "[16, 25, 4, 81]\n"
     ]
    }
   ],
   "source": [
    "# Q 3) Write a Python program to square the elements of a list using map() function.\n",
    "#Sample List: [4, 5, 2, 9]\n",
    "    \n",
    "def square_elem(x):\n",
    "    return x * x\n",
    "numbers = [4, 5, 2, 9]\n",
    "print(\"Sample List:\\n\", numbers)\n",
    "result = map(square_elem , numbers)\n",
    "print(\"Square the elements of the list:\")\n",
    "print(list(result))"
   ]
  },
  {
   "cell_type": "code",
   "execution_count": null,
   "id": "4ed85ad0",
   "metadata": {},
   "outputs": [],
   "source": []
  }
 ],
 "metadata": {
  "kernelspec": {
   "display_name": "Python 3 (ipykernel)",
   "language": "python",
   "name": "python3"
  },
  "language_info": {
   "codemirror_mode": {
    "name": "ipython",
    "version": 3
   },
   "file_extension": ".py",
   "mimetype": "text/x-python",
   "name": "python",
   "nbconvert_exporter": "python",
   "pygments_lexer": "ipython3",
   "version": "3.9.7"
  }
 },
 "nbformat": 4,
 "nbformat_minor": 5
}
